{
 "cells": [
  {
   "cell_type": "code",
   "execution_count": 14,
   "id": "8ba256b3",
   "metadata": {},
   "outputs": [],
   "source": [
    "import torch\n",
    "import torch.nn as nn\n",
    "import torch.optim as optim\n",
    "from PIL import Image\n",
    "import torchvision.transforms as tt\n",
    "import torchvision.models as models\n",
    "from torchvision.utils import save_image"
   ]
  },
  {
   "cell_type": "code",
   "execution_count": 10,
   "id": "d17d4c32",
   "metadata": {
    "scrolled": true
   },
   "outputs": [
    {
     "name": "stdout",
     "output_type": "stream",
     "text": [
      "Sequential(\n",
      "  (0): Conv2d(3, 64, kernel_size=(3, 3), stride=(1, 1), padding=(1, 1))\n",
      "  (1): ReLU(inplace=True)\n",
      "  (2): Conv2d(64, 64, kernel_size=(3, 3), stride=(1, 1), padding=(1, 1))\n",
      "  (3): ReLU(inplace=True)\n",
      "  (4): MaxPool2d(kernel_size=2, stride=2, padding=0, dilation=1, ceil_mode=False)\n",
      "  (5): Conv2d(64, 128, kernel_size=(3, 3), stride=(1, 1), padding=(1, 1))\n",
      "  (6): ReLU(inplace=True)\n",
      "  (7): Conv2d(128, 128, kernel_size=(3, 3), stride=(1, 1), padding=(1, 1))\n",
      "  (8): ReLU(inplace=True)\n",
      "  (9): MaxPool2d(kernel_size=2, stride=2, padding=0, dilation=1, ceil_mode=False)\n",
      "  (10): Conv2d(128, 256, kernel_size=(3, 3), stride=(1, 1), padding=(1, 1))\n",
      "  (11): ReLU(inplace=True)\n",
      "  (12): Conv2d(256, 256, kernel_size=(3, 3), stride=(1, 1), padding=(1, 1))\n",
      "  (13): ReLU(inplace=True)\n",
      "  (14): Conv2d(256, 256, kernel_size=(3, 3), stride=(1, 1), padding=(1, 1))\n",
      "  (15): ReLU(inplace=True)\n",
      "  (16): Conv2d(256, 256, kernel_size=(3, 3), stride=(1, 1), padding=(1, 1))\n",
      "  (17): ReLU(inplace=True)\n",
      "  (18): MaxPool2d(kernel_size=2, stride=2, padding=0, dilation=1, ceil_mode=False)\n",
      "  (19): Conv2d(256, 512, kernel_size=(3, 3), stride=(1, 1), padding=(1, 1))\n",
      "  (20): ReLU(inplace=True)\n",
      "  (21): Conv2d(512, 512, kernel_size=(3, 3), stride=(1, 1), padding=(1, 1))\n",
      "  (22): ReLU(inplace=True)\n",
      "  (23): Conv2d(512, 512, kernel_size=(3, 3), stride=(1, 1), padding=(1, 1))\n",
      "  (24): ReLU(inplace=True)\n",
      "  (25): Conv2d(512, 512, kernel_size=(3, 3), stride=(1, 1), padding=(1, 1))\n",
      "  (26): ReLU(inplace=True)\n",
      "  (27): MaxPool2d(kernel_size=2, stride=2, padding=0, dilation=1, ceil_mode=False)\n",
      "  (28): Conv2d(512, 512, kernel_size=(3, 3), stride=(1, 1), padding=(1, 1))\n",
      "  (29): ReLU(inplace=True)\n",
      "  (30): Conv2d(512, 512, kernel_size=(3, 3), stride=(1, 1), padding=(1, 1))\n",
      "  (31): ReLU(inplace=True)\n",
      "  (32): Conv2d(512, 512, kernel_size=(3, 3), stride=(1, 1), padding=(1, 1))\n",
      "  (33): ReLU(inplace=True)\n",
      "  (34): Conv2d(512, 512, kernel_size=(3, 3), stride=(1, 1), padding=(1, 1))\n",
      "  (35): ReLU(inplace=True)\n",
      "  (36): MaxPool2d(kernel_size=2, stride=2, padding=0, dilation=1, ceil_mode=False)\n",
      ")\n"
     ]
    }
   ],
   "source": [
    "model = models.vgg19(pretrained=True).features\n",
    "print(model)"
   ]
  },
  {
   "cell_type": "code",
   "execution_count": 3,
   "id": "892a4e65",
   "metadata": {},
   "outputs": [],
   "source": [
    "class VGG(nn.Module):\n",
    "    def __init__(self):\n",
    "        super(VGG, self).__init__()\n",
    "        self.chosen_features = set(['0', '5', '10', '19', '28'])\n",
    "        self.model = models.vgg19(pretrained=True).features[:29]\n",
    "    \n",
    "    def forward(self, x):\n",
    "        features = []\n",
    "        for layer_num, layer in enumerate(self.model):\n",
    "            x = layer(x)\n",
    "            \n",
    "            if str(layer_num) in self.chosen_features:\n",
    "                features.append(x)\n",
    "                \n",
    "        return features"
   ]
  },
  {
   "cell_type": "code",
   "execution_count": 4,
   "id": "ad6902bc",
   "metadata": {},
   "outputs": [],
   "source": [
    "def load_image(path):\n",
    "    image = Image.open(path)\n",
    "    image = transform(image).unsqueeze(0)\n",
    "    return image.to(DEVICE)"
   ]
  },
  {
   "cell_type": "code",
   "execution_count": 5,
   "id": "dd58c4dd",
   "metadata": {},
   "outputs": [],
   "source": [
    "    DEVICE = torch.device('cuda' if torch.cuda.is_available else 'cpu')\n",
    "    IMAGE_SIZE = 512\n",
    "    TOTAL_STEPS = 300\n",
    "    LEARNING_RATE = 1e-3\n",
    "    ALPHA = 1\n",
    "    BETA = 1e-2"
   ]
  },
  {
   "cell_type": "code",
   "execution_count": 6,
   "id": "f2330ab8",
   "metadata": {},
   "outputs": [],
   "source": [
    "transform = tt.Compose([\n",
    "    tt.Resize((IMAGE_SIZE, IMAGE_SIZE)),\n",
    "    tt.ToTensor(),\n",
    "    #tt.Normalize(mean=[0.485, 0.456, 0.406], std=[0.229, 0.224, 0.225])\n",
    "])"
   ]
  },
  {
   "cell_type": "code",
   "execution_count": 7,
   "id": "a20e2d2e",
   "metadata": {},
   "outputs": [],
   "source": [
    "original_img = load_image('corgi.jpg')\n",
    "style_img = load_image('style_1.jpg')\n",
    "generated_img = original_img.clone().requires_grad_(True)\n",
    "\n",
    "model = VGG().to(DEVICE).eval()"
   ]
  },
  {
   "cell_type": "code",
   "execution_count": 8,
   "id": "5fd38594",
   "metadata": {},
   "outputs": [],
   "source": [
    "optimizer = optim.Adam([generated_img], lr=LEARNING_RATE)"
   ]
  },
  {
   "cell_type": "code",
   "execution_count": 10,
   "id": "f61142f6",
   "metadata": {},
   "outputs": [
    {
     "name": "stdout",
     "output_type": "stream",
     "text": [
      "Total loss: 200268.531\n",
      "Total loss: 171947.953\n",
      "Total loss: 150253.484\n",
      "Total loss: 133325.844\n",
      "Total loss: 120067.844\n",
      "Total loss: 109597.211\n"
     ]
    }
   ],
   "source": [
    "for step in range(TOTAL_STEPS):\n",
    "    generated_features = model(generated_img)\n",
    "    original_features = model(original_img)\n",
    "    style_features = model(style_img)\n",
    "    \n",
    "    style_loss = original_loss = 0\n",
    "    \n",
    "    for gen_feature, orig_feature, style_feature in zip(\n",
    "        generated_features, original_features, style_features\n",
    "    ):\n",
    "    \n",
    "        batch_size, channel, height, width = gen_feature.shape\n",
    "        original_loss += torch.mean((gen_feature - orig_feature) ** 2)\n",
    "\n",
    "        G = gen_feature.view(channel, height * width).mm(\n",
    "            gen_feature.view(channel, height * width).t()\n",
    "        )\n",
    "        \n",
    "        A = style_feature.view(channel, height * width).mm(\n",
    "            style_feature.view(channel, height * width).t()\n",
    "        )\n",
    "        \n",
    "        style_loss += torch.mean((G - A) ** 2)\n",
    "    \n",
    "    total_loss = ALPHA * original_loss + BETA * style_loss\n",
    "    optimizer.zero_grad()\n",
    "    total_loss.backward()\n",
    "    optimizer.step()\n",
    "    \n",
    "    if step % 50 == 0:\n",
    "        print(\"Total loss: {loss:9.3f}\".format(loss=total_loss.item()))\n",
    "        save_image(generated_img, 'generated.png')"
   ]
  }
 ],
 "metadata": {
  "kernelspec": {
   "display_name": "Python 3 (ipykernel)",
   "language": "python",
   "name": "python3"
  },
  "language_info": {
   "codemirror_mode": {
    "name": "ipython",
    "version": 3
   },
   "file_extension": ".py",
   "mimetype": "text/x-python",
   "name": "python",
   "nbconvert_exporter": "python",
   "pygments_lexer": "ipython3",
   "version": "3.9.6"
  },
  "toc": {
   "base_numbering": 1,
   "nav_menu": {},
   "number_sections": true,
   "sideBar": true,
   "skip_h1_title": false,
   "title_cell": "Table of Contents",
   "title_sidebar": "Contents",
   "toc_cell": false,
   "toc_position": {},
   "toc_section_display": true,
   "toc_window_display": false
  }
 },
 "nbformat": 4,
 "nbformat_minor": 5
}
